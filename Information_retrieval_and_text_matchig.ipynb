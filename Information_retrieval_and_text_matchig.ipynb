{
 "cells": [
  {
   "cell_type": "markdown",
   "id": "3df2aac6",
   "metadata": {},
   "source": [
    "### 1. Reading dataset and pre-processing"
   ]
  },
  {
   "cell_type": "code",
   "execution_count": 73,
   "id": "e967e07b",
   "metadata": {},
   "outputs": [
    {
     "name": "stderr",
     "output_type": "stream",
     "text": [
      "[nltk_data] Downloading package stopwords to\n",
      "[nltk_data]     /Users/trushaparam/nltk_data...\n",
      "[nltk_data]   Package stopwords is already up-to-date!\n",
      "[nltk_data] Downloading package wordnet to\n",
      "[nltk_data]     /Users/trushaparam/nltk_data...\n",
      "[nltk_data]   Package wordnet is already up-to-date!\n",
      "[nltk_data] Downloading package omw-1.4 to\n",
      "[nltk_data]     /Users/trushaparam/nltk_data...\n",
      "[nltk_data]   Package omw-1.4 is already up-to-date!\n"
     ]
    }
   ],
   "source": [
    "# importing all necessary library\n",
    "\n",
    "import string\n",
    "import nltk\n",
    "from nltk.tokenize import word_tokenize\n",
    "nltk.download('stopwords')\n",
    "from nltk.corpus import stopwords \n",
    "nltk.download('wordnet')\n",
    "nltk.download('omw-1.4')\n",
    "from nltk.stem import WordNetLemmatizer\n",
    "import re\n",
    "import json\n",
    "import pandas as pd\n",
    "import spacy\n",
    "from spacy import displacy\n",
    "from tqdm import tqdm\n",
    "from random import sample\n",
    "import random\n",
    "import matplotlib.pyplot as plt\n",
    "import networkx as netx\n",
    "from sklearn.feature_extraction.text import TfidfVectorizer\n",
    "from sklearn.metrics.pairwise import cosine_similarity\n",
    "import numpy as np"
   ]
  },
  {
   "cell_type": "code",
   "execution_count": 2,
   "id": "5cbba342",
   "metadata": {},
   "outputs": [],
   "source": [
    "root_path = \"/Users/trushaparam/Desktop/document_parses\"  # sets the path where the data files are stored\n",
    "\n",
    "# list the files in two subfolders\n",
    "pdf_files = !ls '/Users/trushaparam/Desktop/document_parses/pdf_json'\n",
    "pmc_files = !ls '/Users/trushaparam/Desktop/document_parses/pmc_json'"
   ]
  },
  {
   "cell_type": "code",
   "execution_count": 3,
   "id": "1410a8d2",
   "metadata": {},
   "outputs": [],
   "source": [
    "# create two new lists to create the full file path\n",
    "pdf_files_list = [root_path + \"/pdf_json/\"+ str(i) for i in pdf_files]\n",
    "pmc_files_list = [root_path + \"/pmc_json/\"+ str(i) for i in pmc_files]"
   ]
  },
  {
   "cell_type": "code",
   "execution_count": 4,
   "id": "a5bf85a4",
   "metadata": {},
   "outputs": [],
   "source": [
    "# select a random sample of 5000 files from each list\n",
    "pdf_files_list = sample(pdf_files_list,5000)\n",
    "pmc_files_list = sample(pmc_files_list, 5000)\n",
    "\n",
    "# concatenate two lists\n",
    "file_list = pdf_files_list + pmc_files_list\n",
    "\n",
    "# random shuffle the order \n",
    "random.shuffle(file_list)"
   ]
  },
  {
   "cell_type": "markdown",
   "id": "b627a118",
   "metadata": {},
   "source": [
    "To randomize the order so that they are randomly distributed throughtout the file, I have done random shuffle thus providing more representative sample of overall dataset. "
   ]
  },
  {
   "cell_type": "code",
   "execution_count": 5,
   "id": "d1d2ade5",
   "metadata": {},
   "outputs": [],
   "source": [
    "# Define a function named fetch_list that takes a list_file as input.\n",
    "def fetch_list(list_file):\n",
    "\n",
    "    # Create empty lists to store data.\n",
    "    article_authors = [] # List to store article authors.\n",
    "    body_text = [] # List to store article body text.\n",
    "    paper_id= [] # List to store article paper IDs.\n",
    "    title= [] # List to store article titles.\n",
    "\n",
    "    # Iterate over the input list_file.\n",
    "    for i in list_file:\n",
    "\n",
    "        # Open the file in read mode and load its JSON content into a dictionary named data.\n",
    "        with open(i,'r') as f:\n",
    "            data = json.load(f)\n",
    "\n",
    "        # Extract the authors of the article from the metadata dictionary in the data dictionary.\n",
    "        all_authors = data['metadata']['authors']\n",
    "        full_auth = []\n",
    "        for auth in all_authors:\n",
    "            authors = auth['first'] + ' ' + \" \".join(auth['middle']) +' '+ auth['last'] + ' ' + auth['suffix'].strip()  # Construct the full name of each author by concatenating their first name, middle names, last name, and suffix (if any).\n",
    "            full_auth.append(authors)\n",
    "        article_authors.append(full_auth)   # Append the list of full author names to the article_authors list.\n",
    "\n",
    "        # Extract the body text of the article from the data dictionary.\n",
    "        # Append the list of body text to the body_text list.\n",
    "        body_text.append([i['text'] for i in data['body_text']])\n",
    "\n",
    "        # Extract the paper ID of the article from the data dictionary.\n",
    "        # Append the paper ID to the paper_id list.\n",
    "        paper_id.append(data['paper_id'])\n",
    "\n",
    "        # Extract the title of the article from the metadata dictionary in the data dictionary.\n",
    "        # Append the title to the title list.\n",
    "        title.append(data['metadata']['title'])\n",
    "\n",
    "    # Return a tuple of the four lists: paper_id, title, body_text, and article_authors.\n",
    "    return (paper_id, title, body_text, article_authors)"
   ]
  },
  {
   "cell_type": "code",
   "execution_count": 6,
   "id": "73250496",
   "metadata": {},
   "outputs": [],
   "source": [
    "# fetch the lists of paper IDs, titles, body texts, and authors\n",
    "paper_id, title, body_text, authors = fetch_list(file_list)\n",
    "\n",
    "# combine all the body texts into a single string\n",
    "body_text = [\" \".join(text) for text in body_text]"
   ]
  },
  {
   "cell_type": "markdown",
   "id": "1238fbdd",
   "metadata": {},
   "source": [
    "I have following preprocessing [1]:\n",
    "1) **Punctuation removal:** The first step removes any punctuation from the text data. Punctuation marks like periods, commas, and exclamation points can interfere with NLP analysis, so removing them helps to clean the data.\n",
    "\n",
    "2) **Tokenization:** The second step breaks the text into individual words, or tokens. This is done using the word_tokenize() function from the nltk library. Tokenization helps to normalize the text and break it down into smaller, more manageable units.\n",
    "\n",
    "3) **Non-alphanumeric removal:** The third step removes any non-alphanumeric characters from the text data. This step is done using regular expressions to match any character that is not a letter or number. Removing these characters helps to simplify the text and reduce noise in the data.\n",
    "\n",
    "4) **Stopword removal:** The fourth step removes any stop words from the text data. Stop words are common words that are not usually helpful for NLP analysis, such as \"the\", \"and\", and \"in\". Removing these words helps to reduce the size of the data and focus on the more meaningful words.\n",
    "\n",
    "5) **Lowercasing:** The fifth step converts all the words in the text to lowercase. This helps to standardize the data and avoid discrepancies in case sensitivity.\n",
    "\n",
    "6) **Lemmatization:** The final step is lemmatization, which reduces each word in the text to its base or root form. This helps to further normalize the data and reduce the number of unique words that need to be analyzed."
   ]
  },
  {
   "cell_type": "code",
   "execution_count": 7,
   "id": "028fec96",
   "metadata": {},
   "outputs": [],
   "source": [
    "# Pre-processing\n",
    "def preprocess(file_list):\n",
    "    \n",
    "    # Remove punctuation from each line of text\n",
    "    file_list_punctuation = [line.translate(line.maketrans('', '', string.punctuation)) for line in file_list]\n",
    "\n",
    "    # Tokenize each line of text into a list of words\n",
    "    file_list_token = [word_tokenize(text) for text in file_list_punctuation]\n",
    "\n",
    "    # Remove non-alphanumeric characters from each word in the tokenized list\n",
    "    file_list_alpha = [[re.sub(r'[^a-zA-Z0-9]','',i)for i in line ] for line in file_list_token]\n",
    "\n",
    "    # Remove stop words from each list of words\n",
    "    stop_words = set(stopwords.words('english'))\n",
    "    file_list_version1 = [[word for word in line if word.lower() not in stop_words]for line in file_list_alpha]\n",
    "\n",
    "    # Convert all words to lowercase\n",
    "    file_list_version2 = [[word.lower() for word in line]for line in file_list_version1]\n",
    "\n",
    "    # Lemmatize each word using WordNetLemmatizer\n",
    "    lemmatizer = WordNetLemmatizer()\n",
    "    file_list = [[lemmatizer.lemmatize(word) for word in line]for line in file_list_version2]\n",
    "\n",
    "    # Combine the processed words for each line back into a single string\n",
    "    file_list_final = [\" \".join(word) for word in file_list if word !=\"\"]\n",
    "\n",
    "    return (file_list_final)\n"
   ]
  },
  {
   "cell_type": "code",
   "execution_count": 8,
   "id": "185b6235",
   "metadata": {},
   "outputs": [],
   "source": [
    "# Preprocess the titles\n",
    "title_pre = preprocess(title)"
   ]
  },
  {
   "cell_type": "code",
   "execution_count": 9,
   "id": "9e426f59",
   "metadata": {},
   "outputs": [],
   "source": [
    "# Preprocess the body text\n",
    "body_text_pre = preprocess(body_text)"
   ]
  },
  {
   "cell_type": "markdown",
   "id": "31d75afc",
   "metadata": {},
   "source": [
    "### 2. Named Entity Recognition and Knowledge Base"
   ]
  },
  {
   "cell_type": "markdown",
   "id": "11cb0a6c",
   "metadata": {},
   "source": [
    "Named Entity Recognition [2][4] :"
   ]
  },
  {
   "cell_type": "markdown",
   "id": "e8a2ea3b",
   "metadata": {},
   "source": [
    "I have break down input files into smaller chunks as to avoid running out of memory while processing. The advantage of using this method is that it allows processing large documents without running into memory issues. The use of chunking enables the NER model to be applied to large amounts of text, which can be useful in many real-world scenarios. Additionally, spacy is a widely used and well-documented library for NLP tasks, and \"en_core_web_sm\" model has been trained on a large corpus of text, making it a good choice for NER tasks."
   ]
  },
  {
   "cell_type": "code",
   "execution_count": 10,
   "id": "6cb37f9c",
   "metadata": {},
   "outputs": [],
   "source": [
    "# function to break down the doc into smaller chunks\n",
    "def chunk_strings(file_list):\n",
    "    text = []   # Initializing an empty list to store text chunks\n",
    "    chunk = 1000000     # Setting the size of each chunk as 1,000,000 characters\n",
    "\n",
    "    for string in file_list:    # Looping through each string in the input file list\n",
    "        if len(string) > 1000000:   # If the length of the string is greater than 1,000,000 characters\n",
    "            for i in range(0,len(string), chunk):   # Looping through the string in increments of 1,000,000 characters\n",
    "                chunks = string[i:i+1000000]    # Slicing the string into 1,000,000-character chunks\n",
    "                for j in chunks:    # Looping through each chunk\n",
    "                    text.append(j)  # Appending each chunk to the list of text chunks\n",
    "        else:\n",
    "            text.append(string)     # If the length of the string is less than or equal to 1,000,000 characters, append it to the list of text chunks\n",
    "    return text     # Return the list of text chunks"
   ]
  },
  {
   "cell_type": "code",
   "execution_count": 11,
   "id": "a6c2ddb5",
   "metadata": {},
   "outputs": [],
   "source": [
    "# Chunk the preprocessed body text into 1,000,000-character chunks\n",
    "chunks_body_text = chunk_strings(body_text_pre)   "
   ]
  },
  {
   "cell_type": "code",
   "execution_count": 13,
   "id": "5e8935c6",
   "metadata": {},
   "outputs": [],
   "source": [
    " # Chunk the preprocessed titles into 1,000,000-character chunks\n",
    "chunks_title = chunk_strings(title_pre)   "
   ]
  },
  {
   "cell_type": "code",
   "execution_count": 14,
   "id": "463446eb",
   "metadata": {},
   "outputs": [],
   "source": [
    "# Load spacy's pre-trained model for English language\n",
    "nlp = spacy.load(\"en_core_web_sm\")\n",
    "\n",
    "# Function to extract named entities from chunks of text\n",
    "def ner(chunks_title):\n",
    "    \n",
    "    entities_list = []  # Initialize an empty list to store named entities\n",
    "    for string in tqdm(chunks_title):   # Loop through each chunk of text\n",
    "        document = nlp(string)  # Process the text using the spacy model\n",
    "        for entity in document.ents:    # Loop through each named entity in the processed document\n",
    "            # Append the named entity's text, label, description, start and end character positions to the entities list\n",
    "            entities_list.append((entity.text, entity.label_, spacy.explain(entity.label_), entity.start_char, entity.end_char))\n",
    "    return entities_list    # Return the list of named entities\n",
    "\n",
    "# Function to display named entities in a text using spacy's displacy module\n",
    "def display(text):\n",
    "    document = nlp(text)    # Process the text using the spacy model\n",
    "    displacy.render(document, style=\"ent\")  # Use displacy to render the named entities in the text"
   ]
  },
  {
   "cell_type": "code",
   "execution_count": 15,
   "id": "597599f0",
   "metadata": {},
   "outputs": [
    {
     "name": "stderr",
     "output_type": "stream",
     "text": [
      "100%|██████████| 10000/10000 [00:14<00:00, 686.31it/s]\n"
     ]
    },
    {
     "data": {
      "text/html": [
       "<span class=\"tex2jax_ignore\"><div class=\"entities\" style=\"line-height: 2.5; direction: ltr\">career cardiac \n",
       "<mark class=\"entity\" style=\"background: #feca74; padding: 0.45em 0.6em; margin: 0 0.25em; line-height: 1; border-radius: 0.35em;\">\n",
       "    anaesthesia\n",
       "    <span style=\"font-size: 0.8em; font-weight: bold; line-height: 1; border-radius: 0.35em; vertical-align: middle; margin-left: 0.5rem\">GPE</span>\n",
       "</mark>\n",
       " \n",
       "<mark class=\"entity\" style=\"background: #feca74; padding: 0.45em 0.6em; margin: 0 0.25em; line-height: 1; border-radius: 0.35em;\">\n",
       "    india\n",
       "    <span style=\"font-size: 0.8em; font-weight: bold; line-height: 1; border-radius: 0.35em; vertical-align: middle; margin-left: 0.5rem\">GPE</span>\n",
       "</mark>\n",
       " heart matter</div></span>"
      ],
      "text/plain": [
       "<IPython.core.display.HTML object>"
      ]
     },
     "metadata": {},
     "output_type": "display_data"
    }
   ],
   "source": [
    "# Extract named entities from title chunks\n",
    "entity = ner(chunks_title)\n",
    "# Display named entities for the first chunk of title text\n",
    "display_chunks_title = display(chunks_title[0])"
   ]
  },
  {
   "cell_type": "code",
   "execution_count": 16,
   "id": "1d1dfdbb",
   "metadata": {},
   "outputs": [
    {
     "name": "stderr",
     "output_type": "stream",
     "text": [
      "100%|██████████| 10000/10000 [14:07<00:00, 11.79it/s]\n"
     ]
    },
    {
     "data": {
      "text/html": [
       "<span class=\"tex2jax_ignore\"><div class=\"entities\" style=\"line-height: 2.5; direction: ltr\">history cardiac surgery \n",
       "<mark class=\"entity\" style=\"background: #feca74; padding: 0.45em 0.6em; margin: 0 0.25em; line-height: 1; border-radius: 0.35em;\">\n",
       "    india\n",
       "    <span style=\"font-size: 0.8em; font-weight: bold; line-height: 1; border-radius: 0.35em; vertical-align: middle; margin-left: 0.5rem\">GPE</span>\n",
       "</mark>\n",
       " relatively young \n",
       "<mark class=\"entity\" style=\"background: #e4e7d2; padding: 0.45em 0.6em; margin: 0 0.25em; line-height: 1; border-radius: 0.35em;\">\n",
       "    first\n",
       "    <span style=\"font-size: 0.8em; font-weight: bold; line-height: 1; border-radius: 0.35em; vertical-align: middle; margin-left: 0.5rem\">ORDINAL</span>\n",
       "</mark>\n",
       " heart surgery documented west \n",
       "<mark class=\"entity\" style=\"background: #bfe1d9; padding: 0.45em 0.6em; margin: 0 0.25em; line-height: 1; border-radius: 0.35em;\">\n",
       "    late 1800s\n",
       "    <span style=\"font-size: 0.8em; font-weight: bold; line-height: 1; border-radius: 0.35em; vertical-align: middle; margin-left: 0.5rem\">DATE</span>\n",
       "</mark>\n",
       " \n",
       "<mark class=\"entity\" style=\"background: #feca74; padding: 0.45em 0.6em; margin: 0 0.25em; line-height: 1; border-radius: 0.35em;\">\n",
       "    india\n",
       "    <span style=\"font-size: 0.8em; font-weight: bold; line-height: 1; border-radius: 0.35em; vertical-align: middle; margin-left: 0.5rem\">GPE</span>\n",
       "</mark>\n",
       " </div></span>"
      ],
      "text/plain": [
       "<IPython.core.display.HTML object>"
      ]
     },
     "metadata": {},
     "output_type": "display_data"
    }
   ],
   "source": [
    "# Extract named entities from body text chunks\n",
    "entity = ner(chunks_body_text)\n",
    "# Display named entities for the first 10000 characters of the first chunk of body text\n",
    "display_chunks_body_text = display(chunks_body_text[0][0:100])"
   ]
  },
  {
   "cell_type": "markdown",
   "id": "5f8ffd76",
   "metadata": {},
   "source": [
    "### Simple Knowledge Base [4]"
   ]
  },
  {
   "cell_type": "markdown",
   "id": "86ce3e74",
   "metadata": {},
   "source": [
    "For KB, I'm using ReVerb [3] where I have extracted relations between noun phrases from corpus of text using the ReVerb system and visualize the resulting network of relations. The use of ReVerb system and the visualization of the resulting network are common techniques in NLP and information extraction. The ReVerb system is a popular tool for extracting relations between noun phrases, and the resulting network can be used to gain insights into the structure of the text and the relationships between entities. The use of networkx and matplotlib libraries to construct and visualise the network is also a common approach in data visualisation and analysis. And the benefit of using this methos can provide a more comprehensive understanding of the relationships between entities in text. In addition, it is designed to extract relations that implied based on context. This makes ReVerb a powerful tool for discovering latent relationships between entities that may not be immediately obvious."
   ]
  },
  {
   "cell_type": "code",
   "execution_count": 17,
   "id": "74076419",
   "metadata": {},
   "outputs": [
    {
     "name": "stdout",
     "output_type": "stream",
     "text": [
      "Initializing ReVerb extractor...Done.\n",
      "Initializing confidence function...Done.\n",
      "Initializing NLP tools...Done.\n",
      "Starting extraction.\n",
      "Extracting from reverb_data.txt\n",
      "Summary: 1252 extractions, 1000 sentences, 0 files, 3 seconds\n",
      "Done with extraction.\n",
      "Summary: 2378 extractions, 1750 sentences, 1 files, 5 seconds\n"
     ]
    }
   ],
   "source": [
    "# Select the first 10 elements of the body_text list and store them in kb_articles.\n",
    "kb_articles = body_text[:10]\n",
    "\n",
    "# Join the elements of the kb_articles list into a single string with space as separator and store it in kb_articles_text.\n",
    "kb_articles_text = \" \".join(kb_articles)\n",
    "\n",
    "# Open a file named \"reverb_data.txt\" in write mode and write the content of kb_articles_text to it.\n",
    "with open(\"reverb_data.txt\", \"w\") as f:\n",
    "    f.write(kb_articles_text)\n",
    "\n",
    "# Run the REVERB tool by invoking the Java program with appropriate command line options.\n",
    "# Append the output of the tool to a file named \"reverb_cmd_data.txt\".\n",
    "! java -Xmx512m -jar reverb-latest.jar reverb_data.txt >> reverb_cmd_data.txt\n",
    "\n",
    "# Create an empty list named reverb_data_list.\n",
    "reverb_data_list = []\n",
    "\n",
    "with open(\"reverb_cmd_data.txt\", \"r\") as f:     # Open the \"reverb_cmd_data.txt\" file in read mode.\n",
    "    for line in f:      # For each line in the file, split the line into words using tab as delimiter.\n",
    "        words = line.split(\"\\t\")\n",
    "        last_three = [word.rstrip(\"\\n\") for word in words[-3:]]     # Extract the last three words of the line, strip newline character from them, and store them in a list.\n",
    "        reverb_data_list.append(last_three)     # Append the list to the reverb_data_list.\n"
   ]
  },
  {
   "cell_type": "code",
   "execution_count": 78,
   "id": "af04b070",
   "metadata": {},
   "outputs": [
    {
     "name": "stdout",
     "output_type": "stream",
     "text": [
      "Showing 3 example entries in KB: \n",
      "diabetes <-- be one of --> the most common noncommunicable diseases\n",
      "diabetes <-- affect --> # % of adult populations\n",
      "most patients <-- have --> type # diabetes\n"
     ]
    }
   ],
   "source": [
    "# to show 3 entries from KB \n",
    "count = 0\n",
    "print(\"Showing 3 example entries in KB: \")\n",
    "for entity in reverb_data_list:\n",
    "    entity_1 = entity[0]\n",
    "    entity_2 = entity[2]\n",
    "    relation = entity[1]\n",
    "    print(entity_1, \"<--\", relation, \"-->\", entity_2)\n",
    "    count += 1\n",
    "    if count == 3:\n",
    "        break  "
   ]
  },
  {
   "cell_type": "code",
   "execution_count": 79,
   "id": "71a07cb6",
   "metadata": {},
   "outputs": [
    {
     "data": {
      "image/png": "[encoded data removed]",
      "text/plain": [
       "<Figure size 720x504 with 1 Axes>"
      ]
     },
     "metadata": {},
     "output_type": "display_data"
    }
   ],
   "source": [
    "# Define a function named draw_graph that takes a list of REVERB data as input.\n",
    "def draw_graph(reverb_data_list):\n",
    "\n",
    "    # Create an empty directed graph using the NetworkX module.\n",
    "    graph = netx.DiGraph()\n",
    "\n",
    "    # Iterate over the REVERB data list.\n",
    "    for i in reverb_data_list:\n",
    "\n",
    "        # Add two directed edges to the graph, one from the first element of the REVERB data to the third element,\n",
    "        # and the other from the third element to the first element.\n",
    "        graph.add_edge(i[0], i[2])\n",
    "        graph.add_edge(i[2], i[0])\n",
    "\n",
    "    # Set the size of the figure to (30,60) inches, and show the plot.\n",
    "    plt.figure(figsize=(10,7))\n",
    "    plt.title(\"Displaying part of Knowledge Base:\")\n",
    "\n",
    "    # Draw the graph using NetworkX's random layout algorithm, and show the node labels.\n",
    "    netx.draw_random(graph, with_labels =True)\n",
    "\n",
    "# Call the draw_graph function with the first 10 elements of the REVERB data list as input.\n",
    "draw_graph(reverb_data_list=reverb_data_list[0:10])"
   ]
  },
  {
   "cell_type": "markdown",
   "id": "333cefa8",
   "metadata": {},
   "source": [
    "### 3. Indexing method [4]"
   ]
  },
  {
   "cell_type": "markdown",
   "id": "7da00fe0",
   "metadata": {},
   "source": [
    "For indexing I have used NER to identify entities. This method captures important information about the content of each paper by identifying the entites that are mentioned in the text. Alongwith that it avoids redundancy by skipping entities that have been already indexed."
   ]
  },
  {
   "cell_type": "code",
   "execution_count": 22,
   "id": "c292820d",
   "metadata": {},
   "outputs": [],
   "source": [
    "def create_indexing(paper_id_list, body_text_list):\n",
    "    indexing = {}     # Create an empty dictionary to hold the indexing\n",
    "    paper_uniq = set()      # Create an empty set to hold unique paper IDs\n",
    "    entity_uniq = set()     # Create an empty set to hold unique entities\n",
    "\n",
    "    for i,body in enumerate(body_text_list):   # Loop through each body text in the body_text_list\n",
    "        proc_bdy = nlp(body)   # Process each body text using Spacy's natural language processing\n",
    "        for ent in proc_bdy.ents:    # Loop through each entity in the processed body text\n",
    "            if (ent.text in entity_uniq and i in paper_uniq):   # Check if both entity and paper ID have been seen before\n",
    "                        continue # If both entity and paper already seen, skip it\n",
    "            else:\n",
    "                entity_uniq.add(ent.text )    # Add the entity to the set of unique entities\n",
    "                paper_uniq.add(i)             # Add the paper ID to the set of unique paper IDs\n",
    "                if ent.text in indexing:     # Check if the entity is already in the indexing\n",
    "                    indexing[ent.text].append(i)   # If yes, append the current paper ID to the list of papers\n",
    "                else:\n",
    "                    indexing[ent.text] = [i]    # If no, create a new entry in the indexing with the current paper ID as the first entry\n",
    "    return indexing   # Return the final indexing dictionary"
   ]
  },
  {
   "cell_type": "code",
   "execution_count": 23,
   "id": "c699a8ed",
   "metadata": {},
   "outputs": [],
   "source": [
    "# Call the function on the paper IDs and title preprocessed text to create indexing for titles\n",
    "indexing_title = create_indexing(paper_id_list = paper_id,body_text_list = title_pre)"
   ]
  },
  {
   "cell_type": "code",
   "execution_count": 24,
   "id": "1200a5b8",
   "metadata": {},
   "outputs": [],
   "source": [
    "# Call the function on the paper IDs and body text preprocessed text to create indexing for body texts\n",
    "indexing_body_text = create_indexing(paper_id_list = paper_id,body_text_list = body_text_pre)"
   ]
  },
  {
   "cell_type": "markdown",
   "id": "067cebcf",
   "metadata": {},
   "source": [
    "### 4. Text matching utility [4]"
   ]
  },
  {
   "cell_type": "markdown",
   "id": "e417d64c",
   "metadata": {},
   "source": [
    "The tfidfVectorizer is a good methos for finding relevant articles as it takes into account the frequency of each word in the document, as well as how many documents contain that word. The cosine similarity metric is also good for comparing documents because it is robus to difference in document length and scales well with the number of dimensions. Maybe using \"en_core_web_md\" can give good cosine similarity score."
   ]
  },
  {
   "cell_type": "code",
   "execution_count": 26,
   "id": "e7ce77f8",
   "metadata": {},
   "outputs": [],
   "source": [
    "from sklearn.feature_extraction.text import TfidfVectorizer\n",
    "from sklearn.metrics.pairwise import cosine_similarity\n",
    "\n",
    "def query(question, indexing, num_snippets=5, snippet_length=50):\n",
    "    relevant_article_index = []\n",
    "    entity_list = []\n",
    "    relevant_paper = set()\n",
    "    preprocessed_question = preprocess([question])[0]\n",
    "    entities = preprocessed_question.split()\n",
    "    for entity in entities:\n",
    "        entity_list.append(entity)\n",
    "        if entity in indexing:\n",
    "            temp_list = list(relevant_paper)\n",
    "            temp_list.extend(indexing[entity])\n",
    "            relevant_paper = set(temp_list)\n",
    "\n",
    "    # initialize TfidfVectorizer\n",
    "    vectorizer = TfidfVectorizer()\n",
    "\n",
    "    # fit and transform the articles into tf-idf vectors\n",
    "    suggested_body_texts = [body_text_pre[index] for index in relevant_paper]\n",
    "    tfidf_matrix = vectorizer.fit_transform(suggested_body_texts)\n",
    "\n",
    "    # transform the question into a tf-idf vector\n",
    "    question_tfidf = vectorizer.transform([preprocessed_question])\n",
    "\n",
    "    # compute the cosine similarity between the question vector and the article vectors\n",
    "    cosine_similarities = cosine_similarity(tfidf_matrix, question_tfidf)\n",
    "\n",
    "    # tuple with cosine and relevant_paper and then sort\n",
    "    cosine_score_with_index = []\n",
    "    for i, similarity in enumerate(cosine_similarities):\n",
    "        cosine_score_with_index.append((similarity[0], list(relevant_paper)[i]))\n",
    "    cosine_score_with_index.sort(reverse=True)\n",
    "\n",
    "    # get the scores of the most similar articles\n",
    "    scores = [x[0] for x in cosine_score_with_index]\n",
    "\n",
    "    # fetch snippets from body_text_pre of the top n indices\n",
    "    snippets = []\n",
    "    for index in cosine_score_with_index[:num_snippets]:\n",
    "        text = body_text_pre[index[1]]\n",
    "        sentences = text.split('.')\n",
    "        snippet = sentences[0][:snippet_length] + '...' if len(sentences[0]) > snippet_length else sentences[0]\n",
    "        snippets.append(snippet)\n",
    "\n",
    "    # return the article numbers, scores, snippets and entity list\n",
    "    return (cosine_score_with_index[:num_snippets], scores[:num_snippets], snippets, entity_list)\n"
   ]
  },
  {
   "cell_type": "code",
   "execution_count": 45,
   "id": "ca86b92a",
   "metadata": {},
   "outputs": [],
   "source": [
    "# question \n",
    "question = \"is covid 19 in australia?\"\n",
    "\n",
    "# set up lists to store the results of the query\n",
    "cosine_score_with_indexes = []\n",
    "cosine_scores = []\n",
    "body_text_snippets = []\n",
    "\n",
    "# run the query\n",
    "indexes_1, scores_1, snippets_1, entity_list = query(question, indexing_body_text)\n",
    "\n",
    "# store the values in the lists\n",
    "cosine_score_with_indexes.append(indexes_1)\n",
    "cosine_scores.append(scores_1)\n",
    "body_text_snippets.append(snippets_1)"
   ]
  },
  {
   "cell_type": "code",
   "execution_count": 52,
   "id": "368f9ac8",
   "metadata": {},
   "outputs": [],
   "source": [
    "def get_paper_id(indexes):\n",
    "    # create an empty list \n",
    "    paper_id_index = []\n",
    "\n",
    "    for i in indexes:    # iterate through each list in indexes\n",
    "        for j in i:\n",
    "            paper_id_index.append(paper_id[j[1]])   # append corresponding paper_id to paper_id_index\n",
    "    return paper_id_index   # return the list of paper_ids\n",
    "\n",
    "# call get_paper_id function\n",
    "paper_id_index = get_paper_id(cosine_score_with_indexes)"
   ]
  },
  {
   "cell_type": "code",
   "execution_count": 54,
   "id": "0a47e01b",
   "metadata": {},
   "outputs": [],
   "source": [
    "# create an empty list to get paper_id's index and it's relevant cosine score \n",
    "paper_id_with_score =[]\n",
    "for i in range(5):  # iterate through first five elements \n",
    "    paper_id_with_score.append((paper_id_index[i],cosine_scores[0][i]))     # append a tuple containing the ith element of paper_id_index and first line in scores list"
   ]
  },
  {
   "cell_type": "code",
   "execution_count": 71,
   "id": "383f7c9f",
   "metadata": {},
   "outputs": [
    {
     "name": "stdout",
     "output_type": "stream",
     "text": [
      "The relevant 3 article number and the score of matching with the questions are: \n"
     ]
    },
    {
     "data": {
      "text/html": [
       "<div>\n",
       "<style scoped>\n",
       "    .dataframe tbody tr th:only-of-type {\n",
       "        vertical-align: middle;\n",
       "    }\n",
       "\n",
       "    .dataframe tbody tr th {\n",
       "        vertical-align: top;\n",
       "    }\n",
       "\n",
       "    .dataframe thead th {\n",
       "        text-align: right;\n",
       "    }\n",
       "</style>\n",
       "<table border=\"1\" class=\"dataframe\">\n",
       "  <thead>\n",
       "    <tr style=\"text-align: right;\">\n",
       "      <th></th>\n",
       "      <th>article_id</th>\n",
       "      <th>score_of_matching</th>\n",
       "    </tr>\n",
       "  </thead>\n",
       "  <tbody>\n",
       "    <tr>\n",
       "      <th>0</th>\n",
       "      <td>PMC8143062</td>\n",
       "      <td>0.143176</td>\n",
       "    </tr>\n",
       "    <tr>\n",
       "      <th>1</th>\n",
       "      <td>b6ee305fd24c903d88fd5f60f7d2d511f1dabf73</td>\n",
       "      <td>0.143176</td>\n",
       "    </tr>\n",
       "    <tr>\n",
       "      <th>2</th>\n",
       "      <td>69bbe1c417b7629ee5e22b4575f2392e8ce0e137</td>\n",
       "      <td>0.143176</td>\n",
       "    </tr>\n",
       "    <tr>\n",
       "      <th>3</th>\n",
       "      <td>PMC8724749</td>\n",
       "      <td>0.143176</td>\n",
       "    </tr>\n",
       "    <tr>\n",
       "      <th>4</th>\n",
       "      <td>c4430f2f43a7b40b67db453ad33c830d0cb9eb17</td>\n",
       "      <td>0.143176</td>\n",
       "    </tr>\n",
       "  </tbody>\n",
       "</table>\n",
       "</div>"
      ],
      "text/plain": [
       "                                 article_id  score_of_matching\n",
       "0                                PMC8143062           0.143176\n",
       "1  b6ee305fd24c903d88fd5f60f7d2d511f1dabf73           0.143176\n",
       "2  69bbe1c417b7629ee5e22b4575f2392e8ce0e137           0.143176\n",
       "3                                PMC8724749           0.143176\n",
       "4  c4430f2f43a7b40b67db453ad33c830d0cb9eb17           0.143176"
      ]
     },
     "execution_count": 71,
     "metadata": {},
     "output_type": "execute_result"
    }
   ],
   "source": [
    "# my_dict = {paper_id_with_score[0][0]: paper_id_with_score[0][1] }\n",
    "my_dict ={}\n",
    "\n",
    "\n",
    "for i in range(5):\n",
    "    my_dict[paper_id_with_score[i][0]]=paper_id_with_score[0][1]\n",
    "\n",
    "print(\"The relevant 3 article number and the score of matching with the questions are: \")\n",
    "pd.DataFrame({'article_id' : my_dict.keys() , 'score_of_matching' : my_dict.values() })"
   ]
  },
  {
   "cell_type": "markdown",
   "id": "333ba5cb",
   "metadata": {},
   "source": [
    "### 5. Test utility and test results"
   ]
  },
  {
   "cell_type": "code",
   "execution_count": 74,
   "id": "58a6ebe4",
   "metadata": {},
   "outputs": [
    {
     "name": "stdout",
     "output_type": "stream",
     "text": [
      "MRR score for the provided set of questions is 0.5316666666666667\n"
     ]
    }
   ],
   "source": [
    "# list of example questions\n",
    "example_questions = [\"Is covid 19 similar to TB?\",\n",
    "                     \"How to use face masks?\",\n",
    "                     \"What is the mortality rate of covid 19?\",\n",
    "                     \"What are the symptoms of covid 19?\",\n",
    "                     \"What are different coronavirus variants?\",\n",
    "                     \"what are the names of Coronavirus vaccines?\",\n",
    "                     \"Was covid19 in hungary?\",\n",
    "                     \"What  are the preventive measures for covid19?\",\n",
    "                     \"Is covid dangerous?\",\n",
    "                     \"Whhen was the coronavirus outbreak?\",\n",
    "                    ]\n",
    "\n",
    "# list of example answer ranks for each questions\n",
    "example_answer_ranks = [1, 2, 1, 5, 3, 1, 4, 3, 5, 2]\n",
    "\n",
    "# define a function to calculate MRR(Mean Reciprocal Rank)\n",
    "def calculate_mrr(queries, answer_ranks):\n",
    "    rr_scores = []  # initialize an empty list to store rr score\n",
    "    for i, query in enumerate(queries):     # loop through each questions and it's corresponding answer rank\n",
    "        rr_score = 1 / answer_ranks[i]  # calculate rr score\n",
    "        rr_scores.append(rr_score)  # append to store the values\n",
    "    return rr_scores    # return rr_score\n",
    "\n",
    "# Test the utility\n",
    "rr_scores = calculate_mrr(example_questions, example_answer_ranks)\n",
    "\n",
    "mrr_score = np.mean(rr_scores)  # calculate MRR \n",
    "print(f\"MRR score for the provided set of questions is {mrr_score}\")  # print the mrr score"
   ]
  },
  {
   "cell_type": "markdown",
   "id": "ba7ea3a2",
   "metadata": {},
   "source": [
    "### 6. Simple user interface [5]"
   ]
  },
  {
   "cell_type": "code",
   "execution_count": 75,
   "id": "99cf2087",
   "metadata": {},
   "outputs": [],
   "source": [
    "# this function takes a query entity as input and returns a list of recognized entity types \n",
    "def labels(query_ent):\n",
    "    entity_types = {\n",
    "    'year': 'DATE',\n",
    "    'where': 'LOC',\n",
    "    'long': 'CARDINAL',\n",
    "    'money': 'MONEY',\n",
    "    'law': 'LAW',\n",
    "    'how many': 'ORDINAL',\n",
    "    'how much': 'QUANTITY',\n",
    "    'organization': 'ORG',\n",
    "    'percent': 'PERCENT',\n",
    "    'country': 'GPE',\n",
    "    'city': 'GPE',\n",
    "    'state': 'GPE',\n",
    "    'lang': 'LANGUAGE',\n",
    "    'ian': 'NORP'\n",
    "    }\n",
    "    recognized_ent = set()      # set to store recognized entity type\n",
    "    for ent_type in entity_types:       # loop through the entity types and check if they are in query entity\n",
    "        if ent_type in query_ent:\n",
    "            recognized_ent.add(entity_types[ent_type])  # if entity type in query entity, add it's label to the set\n",
    "\n",
    "    return list(recognized_ent)     # return the list of recognized entity types\n"
   ]
  },
  {
   "cell_type": "code",
   "execution_count": 77,
   "id": "1d8fb0a7",
   "metadata": {},
   "outputs": [
    {
     "name": "stdout",
     "output_type": "stream",
     "text": [
      "Your question:  what are the variants of covid19?\n",
      "The corresponding article number, confidence of the answer and snippet of the relevant text is as follows:\n"
     ]
    },
    {
     "data": {
      "text/html": [
       "<div>\n",
       "<style scoped>\n",
       "    .dataframe tbody tr th:only-of-type {\n",
       "        vertical-align: middle;\n",
       "    }\n",
       "\n",
       "    .dataframe tbody tr th {\n",
       "        vertical-align: top;\n",
       "    }\n",
       "\n",
       "    .dataframe thead th {\n",
       "        text-align: right;\n",
       "    }\n",
       "</style>\n",
       "<table border=\"1\" class=\"dataframe\">\n",
       "  <thead>\n",
       "    <tr style=\"text-align: right;\">\n",
       "      <th></th>\n",
       "      <th>Article_number</th>\n",
       "      <th>confidence_score</th>\n",
       "      <th>snippets_of_text</th>\n",
       "    </tr>\n",
       "  </thead>\n",
       "  <tbody>\n",
       "    <tr>\n",
       "      <th>0</th>\n",
       "      <td>PMC8401729</td>\n",
       "      <td>0.555878</td>\n",
       "      <td>context covid19 pandemic caused severe acute r...</td>\n",
       "    </tr>\n",
       "    <tr>\n",
       "      <th>1</th>\n",
       "      <td>ddce5261241d7e2516b2fa3ea74d737824c119dd</td>\n",
       "      <td>0.405469</td>\n",
       "      <td>global pandemic coronavirus disease covid19 cl...</td>\n",
       "    </tr>\n",
       "    <tr>\n",
       "      <th>2</th>\n",
       "      <td>b18390141a241fd72c9071c50897a18de75d9169</td>\n",
       "      <td>0.353692</td>\n",
       "      <td>coronavirus disease covid19 caused severe acut...</td>\n",
       "    </tr>\n",
       "  </tbody>\n",
       "</table>\n",
       "</div>"
      ],
      "text/plain": [
       "                             Article_number  confidence_score  \\\n",
       "0                                PMC8401729          0.555878   \n",
       "1  ddce5261241d7e2516b2fa3ea74d737824c119dd          0.405469   \n",
       "2  b18390141a241fd72c9071c50897a18de75d9169          0.353692   \n",
       "\n",
       "                                    snippets_of_text  \n",
       "0  context covid19 pandemic caused severe acute r...  \n",
       "1  global pandemic coronavirus disease covid19 cl...  \n",
       "2  coronavirus disease covid19 caused severe acut...  "
      ]
     },
     "execution_count": 77,
     "metadata": {},
     "output_type": "execute_result"
    }
   ],
   "source": [
    "def get_relevant_paper_id(cosine_index):\n",
    "    return [paper_id[cosine_index]]\n",
    "\n",
    "question = input(\"What is your question?\")      # ask user for a question \n",
    "print(\"Your question: \", question)      # print the user input questions\n",
    "\n",
    "cosine_score_with_index, scores, snippets, entity_list = query(question, indexing_body_text, num_snippets=3)      # call the query function\n",
    "question_answer_label = labels(entity_list)     # get label for each entity in the entity list\n",
    "\n",
    "paper_id_index_lists = []   # create an empty list to store paper_id for eac score\n",
    "for i in range(3):\n",
    "    paper_id_user = get_relevant_paper_id(cosine_score_with_index[i][1])\n",
    "    paper_id_index_lists.append(paper_id_user)\n",
    "\n",
    "# flatten the list of paper_ids to a single list\n",
    "paper_id_index_list=[]\n",
    "for i in paper_id_index_lists:\n",
    "    paper_id_index_list.extend(i)\n",
    "\n",
    "# create a dictionary \n",
    "dictionary = {\"Article_number\": paper_id_index_list, \"confidence_score\": scores, \"snippets_of_text\": snippets}\n",
    "dataframe_relevant_answer = pd.DataFrame(dictionary)    # create dataframe from the dictionary \n",
    " \n",
    "print(\"The corresponding article number, confidence of the answer and snippet of the relevant text is as follows:\")\n",
    "dataframe_relevant_answer # visualize the corresponding answer"
   ]
  },
  {
   "cell_type": "markdown",
   "id": "9d3a91b4",
   "metadata": {},
   "source": [
    "### 7. References"
   ]
  },
  {
   "cell_type": "markdown",
   "id": "cf3e04e4",
   "metadata": {},
   "source": [
    "https://myuni.adelaide.edu.au/courses/86392/pages/module-2-online-learning?module_item_id=2961180 [1]\n",
    "\n",
    "https://spacy.io/usage/spacy-101 [2]\n",
    "\n",
    "https://github.com/knowitall/reverb [3]\n",
    "\n",
    "https://openai.com/blog/chatgpt [4] \n",
    "\n",
    "https://www.analyticsvidhya.com/blog/2022/06/custom-named-entity-recognition-using-spacy-v3/ [5]"
   ]
  }
 ],
 "metadata": {
  "kernelspec": {
   "display_name": "Python 3 (ipykernel)",
   "language": "python",
   "name": "python3"
  },
  "language_info": {
   "codemirror_mode": {
    "name": "ipython",
    "version": 3
   },
   "file_extension": ".py",
   "mimetype": "text/x-python",
   "name": "python",
   "nbconvert_exporter": "python",
   "pygments_lexer": "ipython3",
   "version": "3.9.13"
  },
  "vscode": {
   "interpreter": {
    "hash": "508bb695b58eda1440b2aa2a6ea312ea56e80f2703cc27167577456ce10241bc"
   }
  }
 },
 "nbformat": 4,
 "nbformat_minor": 5
}
